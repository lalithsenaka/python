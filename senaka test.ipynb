{
  "metadata": {
    "kernelspec": {
      "name": "xpython",
      "display_name": "Python 3.13 (XPython)",
      "language": "python"
    },
    "language_info": {
      "file_extension": ".py",
      "mimetype": "text/x-python",
      "name": "python",
      "version": "3.13.1"
    }
  },
  "nbformat_minor": 5,
  "nbformat": 4,
  "cells": [
    {
      "id": "a1d5f55b-882e-4015-832e-a530a6d82616",
      "cell_type": "code",
      "source": "print(\"Snaka\")",
      "metadata": {
        "trusted": true
      },
      "outputs": [
        {
          "name": "stdout",
          "output_type": "stream",
          "text": "Snaka\n"
        }
      ],
      "execution_count": 8
    },
    {
      "id": "1bb114e4-6215-4ba8-ac2c-94fc7a3b5417",
      "cell_type": "markdown",
      "source": "My class docs",
      "metadata": {}
    },
    {
      "id": "6f2146d2-cac7-4e68-9a79-a9aa2f46e379",
      "cell_type": "code",
      "source": "",
      "metadata": {
        "trusted": true,
        "jupyter": {
          "source_hidden": true
        }
      },
      "outputs": [],
      "execution_count": null
    },
    {
      "id": "fa949433-a8c2-45de-ae15-f6dc2078d660",
      "cell_type": "code",
      "source": "import matplotlib",
      "metadata": {
        "trusted": true
      },
      "outputs": [],
      "execution_count": 5
    },
    {
      "id": "6a5c8409-e0c5-4bfa-9236-f5215d7c0336",
      "cell_type": "raw",
      "source": "raw raw raw",
      "metadata": {}
    },
    {
      "id": "7f1c9d48-5f17-4211-8184-57676dd6dcd8",
      "cell_type": "markdown",
      "source": "mark down mark down",
      "metadata": {}
    },
    {
      "id": "b7efba09-1f3d-4602-bfec-728c99c8fb4c",
      "cell_type": "code",
      "source": "-------------",
      "metadata": {
        "trusted": true
      },
      "outputs": [
        {
          "ename": "<class 'SyntaxError'>",
          "evalue": "invalid syntax (1241381794.py, line 1)",
          "traceback": [
            "  \u001b[36mCell\u001b[39m\u001b[36m \u001b[39m\u001b[32mIn[6]\u001b[39m\u001b[32m, line 1\u001b[39m\n\u001b[31m    \u001b[39m\u001b[31m-------------\u001b[39m\n                 ^\n\u001b[31mSyntaxError\u001b[39m\u001b[31m:\u001b[39m invalid syntax\n"
          ],
          "output_type": "error"
        }
      ],
      "execution_count": 6
    },
    {
      "id": "a810ce75-2eac-451b-ac87-9a6fcb660be5",
      "cell_type": "code",
      "source": "\n333\n22",
      "metadata": {
        "trusted": true
      },
      "outputs": [
        {
          "execution_count": 7,
          "output_type": "execute_result",
          "data": {
            "text/plain": "22"
          },
          "metadata": {}
        }
      ],
      "execution_count": 7
    },
    {
      "id": "728335db-5536-4a7e-98a8-26ca6d21dc06",
      "cell_type": "code",
      "source": "",
      "metadata": {
        "trusted": true
      },
      "outputs": [],
      "execution_count": null
    }
  ]
}