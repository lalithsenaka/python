{
  "metadata": {
    "kernelspec": {
      "name": "xpython",
      "display_name": "Python 3.13 (XPython)",
      "language": "python"
    },
    "language_info": {
      "file_extension": ".py",
      "mimetype": "text/x-python",
      "name": "python",
      "version": "3.13.1"
    }
  },
  "nbformat_minor": 5,
  "nbformat": 4,
  "cells": [
    {
      "id": "c1dc701c-4a85-4d86-8769-e20df17eaca1",
      "cell_type": "markdown",
      "source": "Second page",
      "metadata": {}
    },
    {
      "id": "57cfb2c6-167f-4ce3-a0d6-ccad342f9401",
      "cell_type": "code",
      "source": "print(\"my second page\")",
      "metadata": {
        "trusted": true
      },
      "outputs": [
        {
          "name": "stdout",
          "output_type": "stream",
          "text": "my second page\n"
        }
      ],
      "execution_count": 1
    },
    {
      "id": "e9e68869-c3b0-4662-bcd1-e92628c167b5",
      "cell_type": "code",
      "source": "",
      "metadata": {
        "trusted": true
      },
      "outputs": [],
      "execution_count": null
    }
  ]
}